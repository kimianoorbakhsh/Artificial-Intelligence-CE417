{
 "cells": [
  {
   "cell_type": "markdown",
   "metadata": {},
   "source": [
    "# Naive Bayesian Networks\n",
    "#### Image Classification\n",
    "##### MNIST - Hand Written Digits"
   ]
  },
  {
   "cell_type": "markdown",
   "metadata": {},
   "source": [
    "**Name** : Kimia Noorbakhsh"
   ]
  },
  {
   "cell_type": "markdown",
   "metadata": {},
   "source": [
    "**Student ID** : none"
   ]
  },
  {
   "cell_type": "markdown",
   "metadata": {},
   "source": [
    "**Sources:**\n",
    "<hr>"
   ]
  },
  {
   "cell_type": "markdown",
   "metadata": {},
   "source": [
    "### Installing Dependencies"
   ]
  },
  {
   "cell_type": "markdown",
   "metadata": {},
   "source": [
    "`torchvision` is installed and used for loading the dataset. If you are not comfortable using torch and numpy, feel free to implement your own dataloader. "
   ]
  },
  {
   "cell_type": "code",
   "execution_count": 5,
   "metadata": {
    "scrolled": true
   },
   "outputs": [
    {
     "name": "stdout",
     "output_type": "stream",
     "text": [
      "Looking in links: https://download.pytorch.org/whl/torch_stable.html\n",
      "Collecting torch===1.5.0\n",
      "  Downloading https://download.pytorch.org/whl/cu102/torch-1.5.0-cp38-cp38-win_amd64.whl (899.1 MB)\n",
      "Collecting torchvision===0.6.0\n",
      "  Downloading https://download.pytorch.org/whl/cu102/torchvision-0.6.0-cp38-cp38-win_amd64.whl (1.2 MB)\n",
      "Collecting numpy\n",
      "  Downloading numpy-1.18.5-cp38-cp38-win_amd64.whl (12.8 MB)\n",
      "Collecting future\n",
      "  Using cached future-0.18.2.tar.gz (829 kB)\n",
      "Collecting pillow>=4.1.1\n",
      "  Downloading Pillow-7.1.2-cp38-cp38-win_amd64.whl (2.0 MB)\n",
      "Building wheels for collected packages: future\n",
      "  Building wheel for future (setup.py): started\n",
      "  Building wheel for future (setup.py): finished with status 'done'\n",
      "  Created wheel for future: filename=future-0.18.2-py3-none-any.whl size=491062 sha256=e3b2d526189262c67194174eef41b7223aa9ca7d5574fbfc1eea64c2e19d3ddb\n",
      "  Stored in directory: c:\\users\\kimia\\appdata\\local\\pip\\cache\\wheels\\8e\\70\\28\\3d6ccd6e315f65f245da085482a2e1c7d14b90b30f239e2cf4\n",
      "Successfully built future\n",
      "Installing collected packages: numpy, future, torch, pillow, torchvision\n",
      "Successfully installed future-0.18.2 numpy-1.18.5 pillow-7.1.2 torch-1.5.0 torchvision-0.6.0\n"
     ]
    }
   ],
   "source": [
    "!pip install torch===1.5.0 torchvision===0.6.0 -f https://download.pytorch.org/whl/torch_stable.html"
   ]
  },
  {
   "cell_type": "markdown",
   "metadata": {},
   "source": [
    "### Importing Libraries"
   ]
  },
  {
   "cell_type": "code",
   "execution_count": 1,
   "metadata": {},
   "outputs": [],
   "source": [
    "from torchvision import datasets\n",
    "import numpy as np"
   ]
  },
  {
   "cell_type": "markdown",
   "metadata": {},
   "source": [
    "<hr>"
   ]
  },
  {
   "cell_type": "markdown",
   "metadata": {},
   "source": [
    "### Loading Data"
   ]
  },
  {
   "cell_type": "markdown",
   "metadata": {},
   "source": [
    "`train_data` & `test_data` variables will hold an [MNIST dataset object](https://pytorch.org/docs/stable/torchvision/datasets.html#mnist) which can be used just like a normal list of `(image <PIL type>, label <integer>)` in python.\n",
    "\n",
    "In summery, it is possible to loop through the data like:\n",
    "```python\n",
    "for image, label in train_data:\n",
    "    image = np.array(image) # convert PIL image to numpy array\n",
    "    # your code here\n",
    "```\n",
    "or access single datapoints like `image, label = train_data[i]`.`len(train_data)` can be used to get the number training points."
   ]
  },
  {
   "cell_type": "code",
   "execution_count": 2,
   "metadata": {
    "scrolled": true
   },
   "outputs": [
    {
     "name": "stdout",
     "output_type": "stream",
     "text": [
      "Downloading http://yann.lecun.com/exdb/mnist/train-images-idx3-ubyte.gz to ./data\\MNIST\\raw\\train-images-idx3-ubyte.gz\n"
     ]
    },
    {
     "name": "stderr",
     "output_type": "stream",
     "text": [
      "100.1%"
     ]
    },
    {
     "name": "stdout",
     "output_type": "stream",
     "text": [
      "Extracting ./data\\MNIST\\raw\\train-images-idx3-ubyte.gz to ./data\\MNIST\\raw\n",
      "Downloading http://yann.lecun.com/exdb/mnist/train-labels-idx1-ubyte.gz to ./data\\MNIST\\raw\\train-labels-idx1-ubyte.gz\n"
     ]
    },
    {
     "name": "stderr",
     "output_type": "stream",
     "text": [
      "113.5%"
     ]
    },
    {
     "name": "stdout",
     "output_type": "stream",
     "text": [
      "Extracting ./data\\MNIST\\raw\\train-labels-idx1-ubyte.gz to ./data\\MNIST\\raw\n",
      "Downloading http://yann.lecun.com/exdb/mnist/t10k-images-idx3-ubyte.gz to ./data\\MNIST\\raw\\t10k-images-idx3-ubyte.gz\n"
     ]
    },
    {
     "name": "stderr",
     "output_type": "stream",
     "text": [
      "100.4%"
     ]
    },
    {
     "name": "stdout",
     "output_type": "stream",
     "text": [
      "Extracting ./data\\MNIST\\raw\\t10k-images-idx3-ubyte.gz to ./data\\MNIST\\raw\n",
      "Downloading http://yann.lecun.com/exdb/mnist/t10k-labels-idx1-ubyte.gz to ./data\\MNIST\\raw\\t10k-labels-idx1-ubyte.gz\n"
     ]
    },
    {
     "name": "stderr",
     "output_type": "stream",
     "text": [
      "180.4%..\\torch\\csrc\\utils\\tensor_numpy.cpp:141: UserWarning: The given NumPy array is not writeable, and PyTorch does not support non-writeable tensors. This means you can write to the underlying (supposedly non-writeable) NumPy array using the tensor. You may want to copy the array to protect its data or make it writeable before converting it to a tensor. This type of warning will be suppressed for the rest of this program.\n"
     ]
    },
    {
     "name": "stdout",
     "output_type": "stream",
     "text": [
      "Extracting ./data\\MNIST\\raw\\t10k-labels-idx1-ubyte.gz to ./data\\MNIST\\raw\n",
      "Processing...\n",
      "Done!\n"
     ]
    }
   ],
   "source": [
    "train_data = datasets.MNIST('./data', train=True, download=True)\n",
    "test_data  = datasets.MNIST('./data', train=False, download=True)\n",
    "# reformatting the data\n",
    "new_train_data = []\n",
    "new_test_data = []\n",
    "for image, label in train_data:\n",
    "    image = np.array(image)\n",
    "    image = np.where(image >= 128, 1, 0)\n",
    "    new_train_data.append((image, label))\n",
    "for image, label in test_data:\n",
    "    image = np.array(image)\n",
    "    image = np.where(image >= 128, 1, 0)\n",
    "    new_test_data.append((image, label))"
   ]
  },
  {
   "cell_type": "markdown",
   "metadata": {},
   "source": [
    "<hr>"
   ]
  },
  {
   "cell_type": "markdown",
   "metadata": {},
   "source": [
    "### Training Model"
   ]
  },
  {
   "cell_type": "code",
   "execution_count": 4,
   "metadata": {},
   "outputs": [],
   "source": [
    "def training(data_train):\n",
    "    probs = {}\n",
    "    prob_of_numbers = {}\n",
    "    for i in range(10):\n",
    "        arr = np.zeros((28, 28), dtype=int)\n",
    "        num = 0\n",
    "        for image, label in data_train:\n",
    "            if label == i:\n",
    "                num += 1\n",
    "                arr = np.add(image, arr)\n",
    "        k = 0.02\n",
    "        probs[i] = ((arr + k) / (num * (k + 1)))\n",
    "        prob_of_numbers[i] = num / len(new_train_data)\n",
    "    return probs, prob_of_numbers"
   ]
  },
  {
   "cell_type": "markdown",
   "metadata": {},
   "source": [
    "### Evaluating Model"
   ]
  },
  {
   "cell_type": "code",
   "execution_count": 5,
   "metadata": {},
   "outputs": [],
   "source": [
    "def predicting(data_test, probs, prob_of_numbers):\n",
    "    predicted_labels = []\n",
    "    correct_predictions = 0\n",
    "    for image, label in data_test:\n",
    "        all_probs = {}\n",
    "        for j in range(10):\n",
    "            new_arr = np.where(image == 1, probs[j], 1 - probs[j])\n",
    "            number = np.prod(new_arr)\n",
    "            number = number * (prob_of_numbers[j])\n",
    "            all_probs[j] = number\n",
    "        predicted_label = max(all_probs, key=all_probs.get)\n",
    "        if predicted_label == label:\n",
    "            predicted_labels.append(predicted_label)\n",
    "            correct_predictions += 1\n",
    "\n",
    "    return predicted_labels, correct_predictions"
   ]
  },
  {
   "cell_type": "code",
   "execution_count": 6,
   "metadata": {},
   "outputs": [
    {
     "name": "stdout",
     "output_type": "stream",
     "text": [
      "accuracy : 84.40%\n"
     ]
    }
   ],
   "source": [
    "# training\n",
    "probs, prob_of_numbers = training(new_train_data)\n",
    "# prediction\n",
    "predicted_labels, correct_predictions = predicting(new_test_data, probs, prob_of_numbers)\n",
    "print(\"accuracy : \", end=\"\")\n",
    "print(\"{:.2f}\".format(correct_predictions / len(new_test_data) * 100), end=\"\")\n",
    "print(\"%\")"
   ]
  }
 ],
 "metadata": {
  "kernelspec": {
   "display_name": "Python 3",
   "language": "python",
   "name": "python3"
  },
  "language_info": {
   "codemirror_mode": {
    "name": "ipython",
    "version": 3
   },
   "file_extension": ".py",
   "mimetype": "text/x-python",
   "name": "python",
   "nbconvert_exporter": "python",
   "pygments_lexer": "ipython3",
   "version": "3.8.1"
  }
 },
 "nbformat": 4,
 "nbformat_minor": 4
}
